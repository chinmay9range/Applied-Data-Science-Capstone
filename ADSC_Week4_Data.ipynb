{
 "cells": [
  {
   "cell_type": "markdown",
   "metadata": {},
   "source": [
    "# Peer-Graded Assignment: Week 4 Part 2"
   ]
  },
  {
   "cell_type": "markdown",
   "metadata": {},
   "source": [
    "### Data "
   ]
  },
  {
   "cell_type": "markdown",
   "metadata": {},
   "source": [
    "As executed in the lab for *Neighborhood Segmenting and Clustering* in Week 3 lab, we can use the same dataset from the same location for our project. In order to perform the analysis on locations to open a North Indian restaurant in Manhattan, NYC, we need to have .json file and appropriate API data i.e. location data from data providers.This can be obtained from the following sources:\n",
    "\n",
    "A) NYC has a total of 5 boroughs and 306 neighborhoods. In order to segment the neighborhoods and explore them, we will essentially need a dataset that contains the 5 boroughs and the neighborhoods that exist in each borough as well as the the latitude and longitude coordinates of each neighborhood. Luckily, this dataset exists for free on the web. We can get the .json file from this link: https://geo.nyu.edu/catalog/nyu_2451_34572\n",
    "\n",
    "B) We also have to use the Foursquare Venues list from where we can get the data regarding the previously opened restaurants. For this we can use the following links and codes: \n",
    "\n",
    "--> From Foursquare Venues Categories - https://developer.foursquare.com/docs/resources/categories \n",
    "\n",
    "--> North Indian Restaurant ID - 54135bf5e4b08f3d2429dfdd\n"
   ]
  },
  {
   "cell_type": "code",
   "execution_count": null,
   "metadata": {},
   "outputs": [],
   "source": []
  }
 ],
 "metadata": {
  "kernelspec": {
   "display_name": "Python 3",
   "language": "python",
   "name": "python3"
  },
  "language_info": {
   "codemirror_mode": {
    "name": "ipython",
    "version": 3
   },
   "file_extension": ".py",
   "mimetype": "text/x-python",
   "name": "python",
   "nbconvert_exporter": "python",
   "pygments_lexer": "ipython3",
   "version": "3.6.8"
  }
 },
 "nbformat": 4,
 "nbformat_minor": 2
}
