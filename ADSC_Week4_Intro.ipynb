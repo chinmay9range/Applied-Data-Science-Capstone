{
 "cells": [
  {
   "cell_type": "markdown",
   "metadata": {},
   "source": [
    "# Peer-Graded Assignment: Week 4 Part 1"
   ]
  },
  {
   "cell_type": "markdown",
   "metadata": {},
   "source": [
    "### Introduction"
   ]
  },
  {
   "cell_type": "markdown",
   "metadata": {},
   "source": [
    "As suggested in the *Instructions* section of the assignment, this problem statement deals with the stakeholders who want to open a new restaurant in New York city. Since the data regarding the city is readily available and easy to find we have decided to go ahead with this city. In this project using the geographical location data from Foursqaure and other location data providers, we aim to recommend places/neighborhoods where the business owners can open a restaurant in order to maximize their profits. This will be done by carrying out analysis on the frequency of use of other similar restaurants in the nearby places. "
   ]
  },
  {
   "cell_type": "markdown",
   "metadata": {},
   "source": [
    "### Why New York City?"
   ]
  },
  {
   "cell_type": "markdown",
   "metadata": {},
   "source": [
    "Further refining the idea, we focus only on opening *North Indian* restaurants in New York City. Since the Indian population has increased substantially in the surrounding areas of New York City over the past few years, the demand for Indian cuisine is on the rise. North Indian cuisine is also one of the most famous Indian cuisines worldwide and also has demand from the non-Indian community in New York. Also, New York city is one of the costliest cities to live in the USA. This is also true for opening a new business or expanding an already existing business. Since, there is a high cost associated with the business expansion in the city, it becomes very important that the owner does a thorough market research before setting up or adding a new restaurant to his/her business. \n",
    "Applying the techniques learnt in the lab earlier in this course, we can get tabular as well as visual information about the various existing places in New York City as well as the frequency of their use. Since New York City is a large area to be analyzed and the owner is affluent enough, we focus our study on the area of **_Manhattan_** for this project. "
   ]
  },
  {
   "cell_type": "markdown",
   "metadata": {},
   "source": [
    "### Business Problem"
   ]
  },
  {
   "cell_type": "markdown",
   "metadata": {},
   "source": [
    "Indian cuisine is famous all over the world. New York City has observed a high immigration rate of Indian residents from the US as well as throughout the world. Thus, it is obvious that to support the tourism industry as well as the working class in NYC, more Indian restaurants must be opened. North Indian cuisine, being one of the most famous Indian cuisine, has a high demand. Thus it would be a great idea if we analyze the performance of the Indian restaurants in NYC, especially Manhattan, to see areas where we can potentially open new restaurants."
   ]
  },
  {
   "cell_type": "markdown",
   "metadata": {},
   "source": [
    "### Target Audience"
   ]
  },
  {
   "cell_type": "markdown",
   "metadata": {},
   "source": [
    "Since we are dealing with the Manhattan area in NYC, we are obviously dealing with affluent businessmen who can afford to open a large scale restaurant chain in such areas. Also, they need to be located in areas where maximum people are satisfied. So, the targeted audience is the Indian tourists, workers also and anyone who loves North Indian cuisine. The objective is to recommend to the management a neighborhood where openong a restaurant would lead to the maximum profit. "
   ]
  },
  {
   "cell_type": "markdown",
   "metadata": {},
   "source": [
    "### Location Preferences"
   ]
  },
  {
   "cell_type": "markdown",
   "metadata": {},
   "source": [
    "We need to see that the restaurant opened has a substantial Indian population living or working around in the neighborhood or it is opened in tourist places which attract many Indians or people oving Indian food. This can be capture using previous location data from Foursquare and other location data providers. However, various factors need to be studied in order to get the best location to open our new restaurant. This project is aimed at capturing all the relevant data and providing a suitable solution. "
   ]
  },
  {
   "cell_type": "code",
   "execution_count": null,
   "metadata": {},
   "outputs": [],
   "source": []
  }
 ],
 "metadata": {
  "kernelspec": {
   "display_name": "Python 3",
   "language": "python",
   "name": "python3"
  },
  "language_info": {
   "codemirror_mode": {
    "name": "ipython",
    "version": 3
   },
   "file_extension": ".py",
   "mimetype": "text/x-python",
   "name": "python",
   "nbconvert_exporter": "python",
   "pygments_lexer": "ipython3",
   "version": "3.6.8"
  }
 },
 "nbformat": 4,
 "nbformat_minor": 2
}
